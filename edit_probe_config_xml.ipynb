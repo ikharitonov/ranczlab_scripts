{
 "cells": [
  {
   "cell_type": "markdown",
   "metadata": {},
   "source": [
    "## Notebook for editing Neuropixel probe configuration [XML version]"
   ]
  },
  {
   "cell_type": "code",
   "execution_count": 7,
   "metadata": {},
   "outputs": [],
   "source": [
    "from helper_functions import *\n",
    "from pathlib import Path"
   ]
  },
  {
   "cell_type": "code",
   "execution_count": 8,
   "metadata": {},
   "outputs": [],
   "source": [
    "load_path = \"/home/jupyter-nora/probe config files/originals/\"\n",
    "load_filename = \"PRB_1_4_0480_1_C_sn-19454412891_2.xml\"\n",
    "\n",
    "save_path = \"/home/jupyter-nora/probe config files/edited\"\n",
    "save_filename = \"PRB_1_4_0480_1_C_sn-19454412891_2_edited.xml\""
   ]
  },
  {
   "cell_type": "code",
   "execution_count": 9,
   "metadata": {},
   "outputs": [
    {
     "name": "stdout",
     "output_type": "stream",
     "text": [
      "Loaded file summary:\n",
      "APGain value of x1000 is set for 384 channels from 0 to 383.\n",
      "LFPGain value of x50 is set for 384 channels from 0 to 383.\n",
      "APFilter value of false is set for 383 channels from 1 to 383.\n",
      "APFilter value of true is set for 1 channels from 0 to 0.\n",
      "Reference value of EXTERNAL is set for 384 channels from 0 to 383.\n"
     ]
    }
   ],
   "source": [
    "file = load_config_xml(Path(load_path)/load_filename)"
   ]
  },
  {
   "cell_type": "code",
   "execution_count": 10,
   "metadata": {},
   "outputs": [],
   "source": [
    "# XML parameters:\n",
    "# APGain can be set to x50, x125, x250, x500, x1000, x1500, x2000, x3000\n",
    "# LFPGain can be set to x50, x125, x250, x500, x1000, x1500, x2000, x3000\n",
    "# APFilter can be set to true or false\n",
    "# Reference can be set to EXTERNAL, TIP and INTERNAL\n",
    "\n",
    "# Edit this to modify all channels 0-383\n",
    "modify_channel_groups = [\n",
    "    {\"start_channel_id\": 0, \"end_channel_id\": 383, \"APGain\": \"x3000\", \"LFPGain\": \"x500\", \"APFilter\": \"true\", \"Reference\": \"TIP\"},\n",
    "]\n",
    "\n",
    "# Uncomment and edit this to define and modify channel groups separately\n",
    "# modify_channel_groups = [\n",
    "#     {\"start_channel_id\": 0, \"end_channel_id\": 191, \"APGain\": \"x50\", \"LFPGain\": \"x125\", \"APFilter\": \"false\", \"Reference\": \"TIP\"},\n",
    "#     {\"start_channel_id\": 192, \"end_channel_id\": 383, \"APGain\": \"x250\", \"LFPGain\": \"x500\", \"APFilter\": \"true\", \"Reference\": \"INTERNAL\"},\n",
    "# ]"
   ]
  },
  {
   "cell_type": "code",
   "execution_count": 11,
   "metadata": {},
   "outputs": [
    {
     "name": "stdout",
     "output_type": "stream",
     "text": [
      "New values set for 384 channel group:\n",
      "{'start_channel_id': 0, 'end_channel_id': 383, 'APGain': 'x3000', 'LFPGain': 'x500', 'APFilter': 'true', 'Reference': 'TIP'}\n"
     ]
    }
   ],
   "source": [
    "file = modify_config_xml(file, modify_channel_groups)"
   ]
  },
  {
   "cell_type": "code",
   "execution_count": 12,
   "metadata": {},
   "outputs": [
    {
     "name": "stdout",
     "output_type": "stream",
     "text": [
      "File saved.\n"
     ]
    }
   ],
   "source": [
    "# Save the modified config file\n",
    "save_config_xml(Path(save_path)/save_filename, file)"
   ]
  }
 ],
 "metadata": {
  "kernelspec": {
   "display_name": "allendata",
   "language": "python",
   "name": "python3"
  },
  "language_info": {
   "codemirror_mode": {
    "name": "ipython",
    "version": 3
   },
   "file_extension": ".py",
   "mimetype": "text/x-python",
   "name": "python",
   "nbconvert_exporter": "python",
   "pygments_lexer": "ipython3",
   "version": "3.9.18"
  }
 },
 "nbformat": 4,
 "nbformat_minor": 2
}
