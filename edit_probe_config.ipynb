{
 "cells": [
  {
   "cell_type": "markdown",
   "metadata": {},
   "source": [
    "## Notebook for editing Neuropixel probe configuration"
   ]
  },
  {
   "cell_type": "code",
   "execution_count": 1,
   "metadata": {},
   "outputs": [],
   "source": [
    "from helper_functions import *\n",
    "from pathlib import Path"
   ]
  },
  {
   "cell_type": "code",
   "execution_count": 2,
   "metadata": {},
   "outputs": [],
   "source": [
    "load_path = \"/home/ikharitonov/RANCZLAB-NAS/iakov/sortings\"\n",
    "load_filename = \"PRB_1_4_0480_1_C_sn-19454412891.json\"\n",
    "\n",
    "save_path = \"/home/ikharitonov/RANCZLAB-NAS/iakov/\"\n",
    "save_filename = \"newconfig.json\""
   ]
  },
  {
   "cell_type": "code",
   "execution_count": 3,
   "metadata": {},
   "outputs": [
    {
     "name": "stdout",
     "output_type": "stream",
     "text": [
      "Loaded file summary:\n",
      "APGain value of 1000 is set for 384 channels from 0 to 383.\n",
      "LFPGain value of 50 is set for 384 channels from 0 to 383.\n",
      "APFilter value of False is set for 384 channels from 0 to 383.\n",
      "Reference value of 0 is set for 384 channels from 0 to 383.\n"
     ]
    }
   ],
   "source": [
    "file = load_config(Path(load_path)/load_filename)"
   ]
  },
  {
   "cell_type": "code",
   "execution_count": 4,
   "metadata": {},
   "outputs": [],
   "source": [
    "# APGain can be set to 50, 125, 250, 500, 1000, 1500, 2000, 3000\n",
    "# APGain can be set to 50, 125, 250, 500, 1000, 1500, 2000, 3000\n",
    "# APFilter can be set to True or False\n",
    "# Reference can be set to 0 for EXTERNAL, 1 for TIP and 2 for INTERNAL\n",
    "\n",
    "# Edit this to modify all channels 0-383\n",
    "modify_channel_groups = [\n",
    "    {\"start_channel_id\": 0, \"end_channel_id\": 383, \"APGain\": 1000, \"LFPGain\": 50, \"APFilter\": False, \"Reference\": 0},\n",
    "]\n",
    "\n",
    "# Uncomment and edit this to define and modify channel groups separately\n",
    "modify_channel_groups = [\n",
    "    {\"start_channel_id\": 0, \"end_channel_id\": 191, \"APGain\": 50, \"LFPGain\": 125, \"APFilter\": False, \"Reference\": 1},\n",
    "    {\"start_channel_id\": 192, \"end_channel_id\": 383, \"APGain\": 250, \"LFPGain\": 500, \"APFilter\": True, \"Reference\": 2},\n",
    "]"
   ]
  },
  {
   "cell_type": "code",
   "execution_count": 5,
   "metadata": {},
   "outputs": [
    {
     "name": "stdout",
     "output_type": "stream",
     "text": [
      "New values set for 192 channel group:\n",
      "{'start_channel_id': 0, 'end_channel_id': 191, 'APGain': 50, 'LFPGain': 125, 'APFilter': False, 'Reference': 1}\n",
      "New values set for 192 channel group:\n",
      "{'start_channel_id': 192, 'end_channel_id': 383, 'APGain': 250, 'LFPGain': 500, 'APFilter': True, 'Reference': 2}\n"
     ]
    }
   ],
   "source": [
    "file = modify_config(file, modify_channel_groups)"
   ]
  },
  {
   "cell_type": "code",
   "execution_count": 6,
   "metadata": {},
   "outputs": [
    {
     "name": "stdout",
     "output_type": "stream",
     "text": [
      "File saved.\n"
     ]
    }
   ],
   "source": [
    "# Save the modified config file\n",
    "save_config(Path(save_path)/save_filename, file)"
   ]
  },
  {
   "cell_type": "code",
   "execution_count": null,
   "metadata": {},
   "outputs": [],
   "source": []
  }
 ],
 "metadata": {
  "kernelspec": {
   "display_name": "allendata",
   "language": "python",
   "name": "python3"
  },
  "language_info": {
   "codemirror_mode": {
    "name": "ipython",
    "version": 3
   },
   "file_extension": ".py",
   "mimetype": "text/x-python",
   "name": "python",
   "nbconvert_exporter": "python",
   "pygments_lexer": "ipython3",
   "version": "3.9.18"
  }
 },
 "nbformat": 4,
 "nbformat_minor": 2
}
